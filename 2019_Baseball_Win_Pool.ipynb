{
  "nbformat": 4,
  "nbformat_minor": 0,
  "metadata": {
    "colab": {
      "name": "2019 Baseball Win Pool",
      "version": "0.3.2",
      "provenance": [],
      "collapsed_sections": [],
      "include_colab_link": true
    },
    "kernelspec": {
      "name": "python3",
      "display_name": "Python 3"
    }
  },
  "cells": [
    {
      "cell_type": "markdown",
      "metadata": {
        "id": "view-in-github",
        "colab_type": "text"
      },
      "source": [
        "<a href=\"https://colab.research.google.com/github/baseballwinpool/baseball/blob/master/2019_Baseball_Win_Pool.ipynb\" target=\"_parent\"><img src=\"https://colab.research.google.com/assets/colab-badge.svg\" alt=\"Open In Colab\"/></a>"
      ]
    },
    {
      "cell_type": "code",
      "metadata": {
        "id": "DJmMVNlROfCd",
        "colab_type": "code",
        "colab": {}
      },
      "source": [
        "import pandas as p\n",
        "import numpy as np\n",
        "\n",
        "teams = p.read_csv('https://raw.githubusercontent.com/baseballwinpool/baseball/master/data/2019/2019teams.csv')\n",
        "dfTeams = p.DataFrame(teams, index=None)\n",
        "dfTeams.set_index('Code', inplace=True)\n",
        "\n",
        "dictTeamsbyCode = dfTeams['FullName'].to_dict()\n",
        "dictTeamsbyName = {v: k for k, v in dictTeamsbyCode.items()}\n",
        "\n",
        "\n",
        "entries = p.read_csv('https://raw.githubusercontent.com/baseballwinpool/baseball/master/data/2019/2019picks.csv')\n",
        "dfEntriesByPlayer = p.DataFrame(entries, index=None)\n",
        "Players = dfEntriesByPlayer['User Name'].to_list()\n",
        "dfEntriesByPlayer.set_index('User Name', inplace=True)\n",
        "\n",
        "\n",
        "####\n",
        "b = p.read_json('https://raw.githubusercontent.com/baseballwinpool/baseball/master/data/2019/2019entriesByPlayer.json')\n",
        "###\n",
        "\n",
        "\n",
        "\n",
        "tmp = p.read_csv('https://raw.githubusercontent.com/baseballwinpool/baseball/master/data/2019/2019picks.csv')\n",
        "dfEntriesByTeam = p.DataFrame(tmp, index=None)\n",
        "del dfEntriesByTeam['User Name']\n",
        "dfEntriesByTeam = dfEntriesByTeam.T\n",
        "\n",
        "\n",
        "\n",
        "#dfEntriesByTeam = dfEntriesByPlayer.T\n",
        "dfEntriesByTeam.reset_index(inplace=True)\n",
        "dfEntriesByTeam.rename(columns={'index': 'Team'}, inplace=True)\n",
        "dfEntriesByTeam['Code'] = [dictTeamsbyName[x] for x in dfEntriesByTeam['Team']]\n",
        "\n",
        "dfEntriesByTeam = dfEntriesByTeam.set_index('Code')\n",
        "del dfEntriesByTeam['Team']\n",
        "\n",
        "dfEntryStats = p.DataFrame(index=dfTeams.index)\n",
        "dfEntryStats['AvgPick'] = np.round(dfEntriesByTeam.mean(axis=1), 1)\n",
        "dfEntryStats.sort_values(inplace=True, ascending=False, by=['AvgPick'])\n",
        "dfEntryStats['Rank'] = np.arange(1,31)\n",
        "\n",
        "dictRankings = dfEntryStats['Rank'].to_dict()\n",
        "\n",
        "dfStackedEntries = dfEntriesByTeam.stack().reset_index()\n",
        "del dfStackedEntries['level_1']\n",
        "dfStackedEntries.rename(columns={'Code' : 'Team', 0: 'Wins'}, inplace=True)\n",
        "dfStackedEntries['Rank'] = [dictRankings[x] for x in dfStackedEntries['Team']]\n",
        "\n",
        "\n",
        "rawStandings = p.read_json('https://erikberg.com/mlb/standings.json')\n",
        "jsonstandings = rawStandings[\"standing\"]\n",
        "\n",
        "####\n",
        "a = p.read_json('https://raw.githubusercontent.com/baseballwinpool/baseball/master/data/2019/2019stackedEntries.json')\n",
        "###\n",
        "\n",
        "teamsFromInternet = [jsonstandings[i][\"first_name\"] + \" \" + jsonstandings[i][\"last_name\"] for i in range (0,30)]\n",
        "wins = [int(jsonstandings[i][\"won\"]) for i in range (0,30)]\n",
        "losses = [int(jsonstandings[i][\"lost\"]) for i in range (0,30)]\n",
        "gp = [int(jsonstandings[i][\"games_played\"]) for i in range (0,30)]\n",
        "\n",
        "dfStandings = p.DataFrame(data=[teamsFromInternet, wins, losses, gp]).T\n",
        "dfStandings.columns=('Team', 'Wins', 'Losses', 'GP')\n",
        "\n",
        "dfStandings['Wins'] = dfStandings['Wins'].astype(int)\n",
        "dfStandings['Losses'] = dfStandings['Losses'].astype(int)\n",
        "dfStandings['GP'] = dfStandings['GP'].astype(int)\n",
        "dfStandings['%GP'] = dfStandings['GP'] / float(1.62)\n",
        "dfStandings['Code'] = [dictTeamsbyName[x] for x in dfStandings['Team']]\n",
        "dfStandings = dfStandings.set_index('Code')\n",
        "del dfStandings['Team']\n",
        "dfStandings['OnPaceFor'] = np.round(dfStandings['Wins'] * 100 / dfStandings['%GP'], 1)\n",
        "dfStandings = dfStandings.join(dfEntryStats['Rank'])\n"
      ],
      "execution_count": 0,
      "outputs": []
    },
    {
      "cell_type": "code",
      "metadata": {
        "id": "XHeGD77mB54u",
        "colab_type": "code",
        "outputId": "9bd09c5a-62ea-43a0-f50f-55bec8a47820",
        "colab": {
          "base_uri": "https://localhost:8080/",
          "height": 55
        }
      },
      "source": [
        "from bokeh.layouts import column\n",
        "from bokeh.plotting import figure, show, output_notebook\n",
        "#from bokeh.transform import jitter\n",
        "from bokeh.models.widgets import Slider, Select, TextInput\n",
        "\n",
        "player = 'Bulging Disk'\n",
        "#playerSelect = Select(title=\"Player\", options=[\"Pete\", \"Denver\", \"Bulging Disk\"], value=\"Bulging Disk\")\n",
        "#playerSelect = Select(title=\"Player\", options=Players)\n",
        "#player1 = Select(title=\"Player\", value=\"Bulging Disk\")\n",
        "\n",
        "\n",
        "ticks = sorted(dfEntryStats['Rank'].unique())\n",
        "\n",
        "\n",
        "p1 = figure(plot_width=1200, plot_height=300, title=\"Win Predictions By Team: \" + str(player))\n",
        "p1.xgrid.grid_line_color = None\n",
        "p1.xaxis[0].ticker = ticks\n",
        "\n",
        "#Plot the entries\n",
        "#rank = np.array(dfStackedEntries[\"Rank\"]).astype(np.int)\n",
        "#wins = np.array(dfStackedEntries[\"Wins\"]).astype(np.int)\n",
        "#p1.circle(rank, wins, size=9, alpha=0.4)\n",
        "p1.circle(a[\"Rank\"],a[\"Wins\"], size=9, alpha=0.4)\n",
        "\n",
        "\n",
        "#Plot the on pace for\n",
        "p1.triangle(dfStandings['Rank'], dfStandings['OnPaceFor'], size=8, alpha=1, color='orange')\n",
        "\n",
        "#def plotPlayer(attr, old, new):\n",
        "#  abc = 17\n",
        "  # insert callback function to plot player\n",
        "\n",
        "#playerSelect.on_change('value', lambda attr, old, new: plotPlayer)\n",
        "\n",
        "  \n",
        "#Plot the picks for the selected player\n",
        "#tmp = dfEntriesByPlayer.loc[dfEntriesByPlayer.index == player]\n",
        "tmp = b.loc[b.index == player]\n",
        "playerPicks = tmp.T\n",
        "playerPicks.reset_index(inplace=True)\n",
        "playerPicks.rename(columns={'index': 'Team', player:'Pick'}, inplace=True)\n",
        "playerPicks['Code'] = [dictTeamsbyName[x] for x in playerPicks['Team']]\n",
        "playerPicks['Rank'] = [dictRankings[x] for x in playerPicks['Code']]\n",
        "p1.diamond(playerPicks['Rank'], playerPicks['Pick'], size=9, alpha=1, color='yellow')\n",
        "\n",
        "invDictRankings = {v: k for k, v in dictRankings.items()}\n",
        "p1.xaxis.major_label_overrides = invDictRankings\n",
        "\n",
        "output_notebook()\n",
        "\n",
        "#show(column(playerSelect,p1))\n",
        "show(p1)"
      ],
      "execution_count": 56,
      "outputs": [
        {
          "output_type": "execute_result",
          "data": {
            "text/plain": [
              "\"{'HOU': 1, 'LAD': 2, 'NYY': 3, 'BOS': 4, 'CLE': 5, 'TB': 6, 'MIL': 7, 'NYM': 8, 'PHI': 9, 'ATL': 10, 'STL': 11, 'WAS': 12, 'MIN': 13, 'CHC': 14, 'OAK': 15, 'SEA': 16, 'LAA': 17, 'SD': 18, 'PIT': 19, 'AZ': 20, 'COL': 21, 'CIN': 22, 'TOR': 23, 'CWS': 24, 'DET': 25, 'SF': 26, 'TEX': 27, 'KC': 28, 'BAL': 29, 'MIA': 30}\""
            ]
          },
          "metadata": {
            "tags": []
          },
          "execution_count": 56
        }
      ]
    },
    {
      "cell_type": "code",
      "metadata": {
        "id": "9F83LPA8zgi1",
        "colab_type": "code",
        "colab": {}
      },
      "source": [
        ""
      ],
      "execution_count": 0,
      "outputs": []
    }
  ]
}